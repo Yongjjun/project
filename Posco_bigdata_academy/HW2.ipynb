{
 "cells": [
  {
   "cell_type": "markdown",
   "metadata": {},
   "source": [
    "## 1. 조건문(if)\n",
    "\n",
    "### 문제1"
   ]
  },
  {
   "cell_type": "code",
   "execution_count": 1,
   "metadata": {},
   "outputs": [
    {
     "name": "stdout",
     "output_type": "stream",
     "text": [
      "Enter a number: 20\n",
      "20 is even number\n"
     ]
    }
   ],
   "source": [
    "# 문제1) 입력 받은 정수가 짝수인지 홀수인지 판별\n",
    "\n",
    "number = input(\"Enter a number: \")\n",
    "\n",
    "if int(number) % 2 == 0:\n",
    "    print(number, 'is even number')\n",
    "else:\n",
    "    print(number, 'is odd number')"
   ]
  },
  {
   "cell_type": "markdown",
   "metadata": {},
   "source": [
    "### 문제 2"
   ]
  },
  {
   "cell_type": "code",
   "execution_count": 2,
   "metadata": {},
   "outputs": [
    {
     "name": "stdout",
     "output_type": "stream",
     "text": [
      "Enter your midterm score: 70\n",
      "Enter your final score: 80\n",
      "Average: 75.0\n",
      "Grade: C\n"
     ]
    }
   ],
   "source": [
    "# 프로그래밍 과목의 중간고사와 기말고사 점수를 \n",
    "# 입력 받아 평균과 학점을 구하는 프로그램을 작성하시오.\n",
    "\n",
    "midterm = int(input(\"Enter your midterm score: \"))\n",
    "final = int(input(\"Enter your final score: \"))\n",
    "\n",
    "avg = (midterm + final) / 2\n",
    "if avg >= 90:\n",
    "    grade = 'A'\n",
    "elif avg >= 80:\n",
    "    grade = 'B'\n",
    "elif avg >= 70:\n",
    "    grade = 'C'\n",
    "elif avg >= 60:\n",
    "    grade = 'D'\n",
    "else:\n",
    "    grade = 'F'\n",
    "    \n",
    "print('Average:', avg)\n",
    "print('Grade:', grade)"
   ]
  },
  {
   "cell_type": "markdown",
   "metadata": {},
   "source": [
    "### 문제3"
   ]
  },
  {
   "cell_type": "code",
   "execution_count": 3,
   "metadata": {},
   "outputs": [
    {
     "name": "stdout",
     "output_type": "stream",
     "text": [
      "수학 점수 입력: 30\n",
      "영어 점수 입력: 90\n",
      "수학 점수 부족\n"
     ]
    }
   ],
   "source": [
    "# 문제3) PPT 문제\n",
    "# 학생수준평가 시험에서 영어 점수와 수학 점수가 합해서\n",
    "# 110점 이상이면 합격이다. 단, 각 점수가 40점 미만이면\n",
    "# 불합격이다. 영어(eng), 수학(math)점수를 입력 받아 합\n",
    "# 격여부를 출력하는 프로그램을 작성하시오. 출력예시는 실습 PPT를 참고하시오.\n",
    "\n",
    "math = int(input(\"수학 점수 입력: \"))\n",
    "eng = int(input(\"영어 점수 입력: \"))\n",
    "\n",
    "if math < 40:\n",
    "    print(\"수학 점수 부족\")\n",
    "elif eng < 40:\n",
    "    print(\"영어 점수 부족\")\n",
    "elif math + eng < 110:\n",
    "    print(\"총합 점수 부족\")\n",
    "else:\n",
    "    print(\"합격\")"
   ]
  },
  {
   "cell_type": "markdown",
   "metadata": {},
   "source": [
    "### 문제4"
   ]
  },
  {
   "cell_type": "code",
   "execution_count": 4,
   "metadata": {},
   "outputs": [
    {
     "name": "stdout",
     "output_type": "stream",
     "text": [
      "숫자 세 개를 입력하시오: 30 50 10\n",
      "50\n"
     ]
    }
   ],
   "source": [
    "num_list = input(\"숫자 세 개를 입력하시오: \").split()\n",
    "num_list = list(map(int, num_list))\n",
    "max1 = 0\n",
    "if num_list[0] > max1:\n",
    "    max1 = num_list[0]\n",
    "if num_list[1] > max1:\n",
    "    max1 = num_list[1]\n",
    "if num_list[2] > max1:\n",
    "    max1 = num_list[2]\n",
    "print(max1)"
   ]
  },
  {
   "cell_type": "markdown",
   "metadata": {},
   "source": [
    "## 반복문"
   ]
  },
  {
   "cell_type": "markdown",
   "metadata": {},
   "source": [
    "### 문제1 (1)"
   ]
  },
  {
   "cell_type": "code",
   "execution_count": 18,
   "metadata": {},
   "outputs": [
    {
     "name": "stdout",
     "output_type": "stream",
     "text": [
      "P\n",
      "h\n",
      "t\n",
      "y\n",
      "o\n",
      "n\n"
     ]
    }
   ],
   "source": [
    "# (1) while 문을 이용하여 작성 (문자열)\n",
    "word = 'Phtyon'\n",
    "count = 0\n",
    "while count <= len(word) - 1:\n",
    "    print(word[count])\n",
    "    count += 1"
   ]
  },
  {
   "cell_type": "markdown",
   "metadata": {},
   "source": [
    "### 문제1 (2)"
   ]
  },
  {
   "cell_type": "code",
   "execution_count": 6,
   "metadata": {},
   "outputs": [
    {
     "name": "stdout",
     "output_type": "stream",
     "text": [
      "P\n",
      "y\n",
      "t\n",
      "h\n",
      "o\n",
      "n\n"
     ]
    }
   ],
   "source": [
    "# (2) for 문을 이용하여 작성 (문자열)\n",
    "\n",
    "word = 'Python'\n",
    "for x in word:\n",
    "    print(x)"
   ]
  },
  {
   "cell_type": "markdown",
   "metadata": {},
   "source": [
    "### 문제2"
   ]
  },
  {
   "cell_type": "code",
   "execution_count": 7,
   "metadata": {},
   "outputs": [
    {
     "name": "stdout",
     "output_type": "stream",
     "text": [
      "10, 9, 8, 7, 6, 5, 4, 3, 2, 1, Happy new year!!\n"
     ]
    }
   ],
   "source": [
    "# 문제2) 아래와 같이 출력되는 프로그램을 작성하시오\n",
    "# 10, 9, 8, 7, 6, 5, 4, 3, 2, 1, Happy new year!!\n",
    "\n",
    "for x in range(10, 0, -1):\n",
    "    print(x, end=', ')\n",
    "    if x == 1:\n",
    "        print('Happy new year!!')"
   ]
  },
  {
   "cell_type": "markdown",
   "metadata": {},
   "source": [
    "### 문제3"
   ]
  },
  {
   "cell_type": "code",
   "execution_count": 8,
   "metadata": {},
   "outputs": [
    {
     "name": "stdout",
     "output_type": "stream",
     "text": [
      "Enter two integers: 10 20\n",
      "165\n"
     ]
    }
   ],
   "source": [
    "# 문제3) 양의 두 정수 a, b를 입력 받아, a부터 b까지의 \n",
    "# 정수의 합을 구하여 출력하는 프로그램을 작성하시오. \n",
    "# (for 또는 while을 이용할 것)\n",
    "# 단, 조건 a <= b 을 만족하는 값만 고려한다. \n",
    "\n",
    "nums = input(\"Enter two integers: \")\n",
    "nums = nums.split()\n",
    "\n",
    "total = 0\n",
    "for x in range(int(nums[0]), int(nums[1]) + 1):\n",
    "    total += x\n",
    "print(total)"
   ]
  },
  {
   "cell_type": "markdown",
   "metadata": {},
   "source": [
    "### 문제4"
   ]
  },
  {
   "cell_type": "code",
   "execution_count": 9,
   "metadata": {},
   "outputs": [
    {
     "name": "stdout",
     "output_type": "stream",
     "text": [
      "3\n"
     ]
    }
   ],
   "source": [
    "# 문제4) 주어진 문자열에 문자a가 몇 개 있는지 구하는 \n",
    "# 프로그램을 작성하시오.(for문 사용할 것)\n",
    "\n",
    "word = 'banana'\n",
    "count = 0\n",
    "for x in word:\n",
    "    if x == 'a':\n",
    "        count += 1\n",
    "\n",
    "print(count)"
   ]
  },
  {
   "cell_type": "markdown",
   "metadata": {},
   "source": [
    "### 문제5"
   ]
  },
  {
   "cell_type": "code",
   "execution_count": 10,
   "metadata": {},
   "outputs": [
    {
     "name": "stdout",
     "output_type": "stream",
     "text": [
      "0 1 2 3 4 5 6 7 8 9 \n",
      "0 5 10 15 20 25 30 35 40 45 50 \n",
      "10 9 8 7 6 5 4 3 2 1 "
     ]
    }
   ],
   "source": [
    "# 문제5) for 문과 range()함수를 이용하여 다음과 같이 \n",
    "# 출력되도록 작성하시오. \n",
    "\n",
    "# 0 1 2 3 4 5 6 7 8 9\n",
    "# 0 5 10 15 20 25 30 35 40 45 50\n",
    "# 10 9 8 7 6 5 4 3 2 1\n",
    "\n",
    "for x in range(10):\n",
    "    print(x, end=' ')\n",
    "print()\n",
    "for x in range(11):\n",
    "    print(5*x, end=' ')\n",
    "print()\n",
    "for x in range(10, 0, -1):\n",
    "    print(x, end=' ')\n"
   ]
  },
  {
   "cell_type": "markdown",
   "metadata": {},
   "source": [
    "### 문제6"
   ]
  },
  {
   "cell_type": "code",
   "execution_count": 11,
   "metadata": {},
   "outputs": [
    {
     "name": "stdout",
     "output_type": "stream",
     "text": [
      "red\n",
      "green\n",
      "blue\n"
     ]
    }
   ],
   "source": [
    "# 문제6) for 문을 사용하여 리스트(colors)의 모든 내용을 출력하시오. \n",
    "# (단, range()를 이용하지 않는다.)\n",
    "\n",
    "colors = [\"red\", \"green\", \"blue\"]\n",
    "for x in colors:\n",
    "    print(x)"
   ]
  },
  {
   "cell_type": "markdown",
   "metadata": {},
   "source": [
    "### 문제7"
   ]
  },
  {
   "cell_type": "code",
   "execution_count": 12,
   "metadata": {},
   "outputs": [
    {
     "name": "stdout",
     "output_type": "stream",
     "text": [
      "4 6 8 10 12 "
     ]
    }
   ],
   "source": [
    "# 문제7) 리스트 a 전체를 반복해서 방문하되, 짝수만 출력하시오.(for 문 사용)\n",
    "\n",
    "a = [1, 3, 4, 5, 6, 7, 8, 9, 10, 11, 12, 13]\n",
    "\n",
    "for x in a:\n",
    "    if x % 2 == 0:\n",
    "        print(x, end=' ')"
   ]
  },
  {
   "cell_type": "markdown",
   "metadata": {},
   "source": [
    "### 문제8"
   ]
  },
  {
   "cell_type": "code",
   "execution_count": 13,
   "metadata": {},
   "outputs": [
    {
     "name": "stdout",
     "output_type": "stream",
     "text": [
      "출력하고 싶은 단을 입력하세요: 7\n",
      "7 * 1 = 7\n",
      "7 * 2 = 14\n",
      "7 * 3 = 21\n",
      "7 * 4 = 28\n",
      "7 * 5 = 35\n",
      "7 * 6 = 42\n",
      "7 * 7 = 49\n",
      "7 * 8 = 56\n",
      "7 * 9 = 63\n"
     ]
    }
   ],
   "source": [
    "# 구구단 출력1 ­ PPT 문제\n",
    "\n",
    "num = int(input(\"출력하고 싶은 단을 입력하세요: \"))\n",
    "for x in range(1, 10):\n",
    "    print(num, '*', x, '=', num*x)"
   ]
  },
  {
   "cell_type": "markdown",
   "metadata": {},
   "source": [
    "### 문제9"
   ]
  },
  {
   "cell_type": "code",
   "execution_count": 14,
   "metadata": {},
   "outputs": [
    {
     "name": "stdout",
     "output_type": "stream",
     "text": [
      "== 2단 ==\n",
      "2 * 1 = 2\n",
      "2 * 2 = 4\n",
      "2 * 3 = 6\n",
      "2 * 4 = 8\n",
      "2 * 5 = 10\n",
      "2 * 6 = 12\n",
      "2 * 7 = 14\n",
      "2 * 8 = 16\n",
      "2 * 9 = 18\n",
      "== 3단 ==\n",
      "3 * 1 = 3\n",
      "3 * 2 = 6\n",
      "3 * 3 = 9\n",
      "3 * 4 = 12\n",
      "3 * 5 = 15\n",
      "3 * 6 = 18\n",
      "3 * 7 = 21\n",
      "3 * 8 = 24\n",
      "3 * 9 = 27\n",
      "== 4단 ==\n",
      "4 * 1 = 4\n",
      "4 * 2 = 8\n",
      "4 * 3 = 12\n",
      "4 * 4 = 16\n",
      "4 * 5 = 20\n",
      "4 * 6 = 24\n",
      "4 * 7 = 28\n",
      "4 * 8 = 32\n",
      "4 * 9 = 36\n",
      "== 5단 ==\n",
      "5 * 1 = 5\n",
      "5 * 2 = 10\n",
      "5 * 3 = 15\n",
      "5 * 4 = 20\n",
      "5 * 5 = 25\n",
      "5 * 6 = 30\n",
      "5 * 7 = 35\n",
      "5 * 8 = 40\n",
      "5 * 9 = 45\n",
      "== 6단 ==\n",
      "6 * 1 = 6\n",
      "6 * 2 = 12\n",
      "6 * 3 = 18\n",
      "6 * 4 = 24\n",
      "6 * 5 = 30\n",
      "6 * 6 = 36\n",
      "6 * 7 = 42\n",
      "6 * 8 = 48\n",
      "6 * 9 = 54\n",
      "== 7단 ==\n",
      "7 * 1 = 7\n",
      "7 * 2 = 14\n",
      "7 * 3 = 21\n",
      "7 * 4 = 28\n",
      "7 * 5 = 35\n",
      "7 * 6 = 42\n",
      "7 * 7 = 49\n",
      "7 * 8 = 56\n",
      "7 * 9 = 63\n",
      "== 8단 ==\n",
      "8 * 1 = 8\n",
      "8 * 2 = 16\n",
      "8 * 3 = 24\n",
      "8 * 4 = 32\n",
      "8 * 5 = 40\n",
      "8 * 6 = 48\n",
      "8 * 7 = 56\n",
      "8 * 8 = 64\n",
      "8 * 9 = 72\n",
      "== 9단 ==\n",
      "9 * 1 = 9\n",
      "9 * 2 = 18\n",
      "9 * 3 = 27\n",
      "9 * 4 = 36\n",
      "9 * 5 = 45\n",
      "9 * 6 = 54\n",
      "9 * 7 = 63\n",
      "9 * 8 = 72\n",
      "9 * 9 = 81\n"
     ]
    }
   ],
   "source": [
    "# 문제9) 구구단 출력2 (중첩 반복문)\n",
    "\n",
    "for i in range(2, 10):\n",
    "    print('== %d단 ==' %i)\n",
    "    for j in range(1, 10):\n",
    "        print(i, '*', j, '=', i*j)"
   ]
  },
  {
   "cell_type": "markdown",
   "metadata": {},
   "source": [
    "### 문제 10"
   ]
  },
  {
   "cell_type": "code",
   "execution_count": 15,
   "metadata": {},
   "outputs": [
    {
     "name": "stdout",
     "output_type": "stream",
     "text": [
      "1 * 2 =  2 1 * 3 =  3 1 * 4 =  4 1 * 5 =  5 1 * 6 =  6 1 * 7 =  7 1 * 8 =  8 1 * 9 =  9 \n",
      "2 * 2 =  4 2 * 3 =  6 2 * 4 =  8 2 * 5 = 10 2 * 6 = 12 2 * 7 = 14 2 * 8 = 16 2 * 9 = 18 \n",
      "3 * 2 =  6 3 * 3 =  9 3 * 4 = 12 3 * 5 = 15 3 * 6 = 18 3 * 7 = 21 3 * 8 = 24 3 * 9 = 27 \n",
      "4 * 2 =  8 4 * 3 = 12 4 * 4 = 16 4 * 5 = 20 4 * 6 = 24 4 * 7 = 28 4 * 8 = 32 4 * 9 = 36 \n",
      "5 * 2 = 10 5 * 3 = 15 5 * 4 = 20 5 * 5 = 25 5 * 6 = 30 5 * 7 = 35 5 * 8 = 40 5 * 9 = 45 \n",
      "6 * 2 = 12 6 * 3 = 18 6 * 4 = 24 6 * 5 = 30 6 * 6 = 36 6 * 7 = 42 6 * 8 = 48 6 * 9 = 54 \n",
      "7 * 2 = 14 7 * 3 = 21 7 * 4 = 28 7 * 5 = 35 7 * 6 = 42 7 * 7 = 49 7 * 8 = 56 7 * 9 = 63 \n",
      "8 * 2 = 16 8 * 3 = 24 8 * 4 = 32 8 * 5 = 40 8 * 6 = 48 8 * 7 = 56 8 * 8 = 64 8 * 9 = 72 \n",
      "9 * 2 = 18 9 * 3 = 27 9 * 4 = 36 9 * 5 = 45 9 * 6 = 54 9 * 7 = 63 9 * 8 = 72 9 * 9 = 81 \n"
     ]
    }
   ],
   "source": [
    "for i in range(1, 10):\n",
    "    for j in range(2, 10):\n",
    "        print('%d * %d = %2d' %(i, j, i*j), end=' ')\n",
    "    print()"
   ]
  },
  {
   "cell_type": "markdown",
   "metadata": {},
   "source": [
    "### 문제 11"
   ]
  },
  {
   "cell_type": "code",
   "execution_count": 16,
   "metadata": {},
   "outputs": [
    {
     "name": "stdout",
     "output_type": "stream",
     "text": [
      "input an integer: 32314\n",
      "***\n",
      "**\n",
      "***\n",
      "*\n",
      "****\n"
     ]
    }
   ],
   "source": [
    "num = input(\"input an integer: \")\n",
    "for x in num:\n",
    "    print('*'*int(x))"
   ]
  },
  {
   "cell_type": "markdown",
   "metadata": {},
   "source": [
    "### 문제12"
   ]
  },
  {
   "cell_type": "code",
   "execution_count": 17,
   "metadata": {},
   "outputs": [
    {
     "name": "stdout",
     "output_type": "stream",
     "text": [
      "enter a number: 10\n",
      "enter a number: 20\n",
      "enter a number: 30\n",
      "enter a number: done\n",
      "[10.0, 20.0, 30.0]\n",
      "Average: 20\n",
      "Maximum: 30\n",
      "Minumim: 10\n"
     ]
    }
   ],
   "source": [
    "num_list = []\n",
    "while True:\n",
    "    a = input(\"enter a number: \")\n",
    "    if a == 'done':\n",
    "        break\n",
    "    num_list.append(a)\n",
    "\n",
    "num_list = list(map(float, num_list))\n",
    "\n",
    "print(num_list)\n",
    "avg = sum(num_list) / len(num_list)\n",
    "maximum = max(num_list)\n",
    "minimum = min(num_list)\n",
    "\n",
    "print('Average: %d' %avg)\n",
    "print('Maximum: %d' %maximum)\n",
    "print('Minumim: %d' %minimum)"
   ]
  }
 ],
 "metadata": {
  "kernelspec": {
   "display_name": "Python 3",
   "language": "python",
   "name": "python3"
  },
  "language_info": {
   "codemirror_mode": {
    "name": "ipython",
    "version": 3
   },
   "file_extension": ".py",
   "mimetype": "text/x-python",
   "name": "python",
   "nbconvert_exporter": "python",
   "pygments_lexer": "ipython3",
   "version": "3.8.3"
  }
 },
 "nbformat": 4,
 "nbformat_minor": 4
}
