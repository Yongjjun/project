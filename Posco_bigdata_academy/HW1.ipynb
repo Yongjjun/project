{
 "cells": [
  {
   "cell_type": "markdown",
   "metadata": {},
   "source": [
    "### 문제1"
   ]
  },
  {
   "cell_type": "code",
   "execution_count": 1,
   "metadata": {},
   "outputs": [
    {
     "name": "stdout",
     "output_type": "stream",
     "text": [
      "enter degree: 300\n",
      "화씨온도: 300.0\n",
      "섭씨온도: 148.88888888888889\n"
     ]
    }
   ],
   "source": [
    "# c = (f-32) * 5/9\n",
    "\n",
    "F = float(input('enter degree: '))\n",
    "C = (F - 32) * 5/9\n",
    "\n",
    "print('화씨온도:', F)\n",
    "print('섭씨온도:' ,C)"
   ]
  },
  {
   "cell_type": "markdown",
   "metadata": {},
   "source": [
    "### 문제2"
   ]
  },
  {
   "cell_type": "code",
   "execution_count": 2,
   "metadata": {},
   "outputs": [
    {
     "name": "stdout",
     "output_type": "stream",
     "text": [
      "input your money: 10000\n",
      "input value of stuff: 3000\n",
      "투입한 돈: 10000\n",
      "거스름 돈: 7000\n",
      "500원 동전의 수: 14\n",
      "100원 동전의 수: 0\n"
     ]
    }
   ],
   "source": [
    "# 사용자로부터 투입한 돈과 물건 값을 입력 받아, 잔돈을 계산하여 출력한다. \n",
    "# 단 동전의 개수는 최소화 할 것\n",
    "\n",
    "# (가정) - 물건값은 100원 단위, 자판기의 동전은 500원, 100원만 있음\n",
    "# 투입한돈 n 원\n",
    "\n",
    "money = int(input(\"input your money: \"))\n",
    "stuff = int(input(\"input value of stuff: \"))\n",
    "returns_value = money - stuff\n",
    "coin_500 = returns_value // 500 \n",
    "coin_100 = int((returns_value % 500) / 100)\n",
    "\n",
    "print('투입한 돈:', money)\n",
    "print('거스름 돈:', returns_value)\n",
    "print('500원 동전의 수:', coin_500)\n",
    "print('100원 동전의 수:', coin_100)"
   ]
  },
  {
   "cell_type": "markdown",
   "metadata": {},
   "source": [
    "### 문제3"
   ]
  },
  {
   "cell_type": "code",
   "execution_count": 3,
   "metadata": {},
   "outputs": [
    {
     "name": "stdout",
     "output_type": "stream",
     "text": [
      "반지름을 입력하시오: 20\n",
      "원의 둘레: 125.66368\n",
      "원의 넓이: 1256.6368\n"
     ]
    }
   ],
   "source": [
    "r = float(input(\"반지름을 입력하시오: \"))\n",
    "pi = 3.141592\n",
    "\n",
    "circumference = 2*pi*r\n",
    "circle_area = pi*r**2\n",
    "\n",
    "print('원의 둘레:', circumference)\n",
    "print('원의 넓이:', circle_area)"
   ]
  },
  {
   "cell_type": "markdown",
   "metadata": {},
   "source": [
    "### 문제4"
   ]
  },
  {
   "cell_type": "code",
   "execution_count": 4,
   "metadata": {},
   "outputs": [
    {
     "name": "stdout",
     "output_type": "stream",
     "text": [
      "enter two integers: 3 5\n",
      "3 + 5 = 8\n",
      "3 - 5 = -2\n",
      "3 * 5 = 15\n",
      "3 / 5 = 0.6\n",
      "3 % 5 = 3\n"
     ]
    }
   ],
   "source": [
    "numbers = input(\"enter two integers: \")\n",
    "a, b = numbers.split()\n",
    "a, b = int(a), int(b)\n",
    "\n",
    "make_plus = a + b\n",
    "make_minus = a - b\n",
    "make_multiplyer = a * b\n",
    "make_division = a / b\n",
    "make_remainder = a % b\n",
    "\n",
    "print(a, '+', b, '=', make_plus)\n",
    "print(a, '-', b, '=', make_minus)\n",
    "print(a, '*', b, '=', make_multiplyer)\n",
    "print(a, '/', b, '=', make_division)\n",
    "print(a, '%', b, '=', make_remainder)"
   ]
  },
  {
   "cell_type": "markdown",
   "metadata": {},
   "source": [
    "### 문제5"
   ]
  },
  {
   "cell_type": "code",
   "execution_count": 9,
   "metadata": {},
   "outputs": [
    {
     "name": "stdout",
     "output_type": "stream",
     "text": [
      "Enter te two integers: 352 341\n",
      "the sum of 352 and 341 is 693\n",
      "The average of 352 and 341 is 346.5\n"
     ]
    }
   ],
   "source": [
    "numbers = input('Enter te two integers: ')\n",
    "a, b = numbers.split()\n",
    "a, b = int(a), int(b)\n",
    "sum_value = a + b\n",
    "average_value = (a+b)/2\n",
    "\n",
    "print('the sum of', a, 'and', b, 'is', sum_value)\n",
    "print('The average of', a, 'and', b, 'is %.1f' %average_value)"
   ]
  },
  {
   "cell_type": "markdown",
   "metadata": {},
   "source": [
    "### 문제6"
   ]
  },
  {
   "cell_type": "code",
   "execution_count": 10,
   "metadata": {},
   "outputs": [
    {
     "name": "stdout",
     "output_type": "stream",
     "text": [
      "날짜(연/월/일)입력: 2020/03/01\n",
      "입력한 날짜의 10년 후는 2030년 03월 01일\n"
     ]
    }
   ],
   "source": [
    "# 날짜(연/월/일) 입력:\n",
    "# 입력한 날짜의 10년 후는 2030년 8월 25일\n",
    "\n",
    "date = input(\"날짜(연/월/일)입력: \").split('/')\n",
    "date[0] = str(int(date[0]) +10)\n",
    "print('입력한 날짜의 10년 후는', date[0]+'년', date[1]+'월', date[2]+'일')"
   ]
  }
 ],
 "metadata": {
  "kernelspec": {
   "display_name": "Python 3",
   "language": "python",
   "name": "python3"
  },
  "language_info": {
   "codemirror_mode": {
    "name": "ipython",
    "version": 3
   },
   "file_extension": ".py",
   "mimetype": "text/x-python",
   "name": "python",
   "nbconvert_exporter": "python",
   "pygments_lexer": "ipython3",
   "version": "3.8.3"
  }
 },
 "nbformat": 4,
 "nbformat_minor": 4
}
