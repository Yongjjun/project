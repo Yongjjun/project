{
 "cells": [
  {
   "cell_type": "markdown",
   "metadata": {},
   "source": [
    "### 문제1"
   ]
  },
  {
   "cell_type": "code",
   "execution_count": 1,
   "metadata": {},
   "outputs": [
    {
     "name": "stdout",
     "output_type": "stream",
     "text": [
      "1\n",
      "2\n",
      "10\n"
     ]
    }
   ],
   "source": [
    "# 실습1) for 문을 사용하여 딕셔너리 타입의 d의 모든 value를 출력해 보시오.\n",
    "\n",
    "d = {'youn': 1, 'park': 2, 'kim': 10}\n",
    "for x in d.values():\n",
    "    print(x)"
   ]
  },
  {
   "cell_type": "markdown",
   "metadata": {},
   "source": [
    "### 문제2"
   ]
  },
  {
   "cell_type": "code",
   "execution_count": 2,
   "metadata": {},
   "outputs": [
    {
     "name": "stdout",
     "output_type": "stream",
     "text": [
      "one 1\n",
      "two 2\n",
      "three 3\n",
      "four 4\n",
      "five 5\n"
     ]
    }
   ],
   "source": [
    "# {'one':1, 'two':2, 'three':3, 'four':4, 'five':5}\n",
    "# key의 알파벳을 기준으로 순서대로 아래와 같이 (key, value)로 출력하시오.\n",
    "\n",
    "# five 5\n",
    "# four 4\n",
    "# one 1\n",
    "# three 3\n",
    "# two 2\n",
    "\n",
    "b_dict = {'one':1, 'two':2, 'three':3, 'four':4, 'five':5}\n",
    "for k, v in b_dict.items():\n",
    "    print(k, v)"
   ]
  },
  {
   "cell_type": "markdown",
   "metadata": {},
   "source": [
    "### 문제3"
   ]
  },
  {
   "cell_type": "code",
   "execution_count": 3,
   "metadata": {},
   "outputs": [
    {
     "name": "stdout",
     "output_type": "stream",
     "text": [
      "enter a sentence: what an amaIng python!\n",
      "{'w': 1, 'h': 2, 'a': 4, 't': 2, ' ': 3, 'n': 3, 'm': 1, 'I': 1, 'g': 1, 'p': 1, 'y': 1, 'o': 1, '!': 1}\n"
     ]
    }
   ],
   "source": [
    "# dict 문제\n",
    "\n",
    "a = input(\"enter a sentence: \")\n",
    "a_dict = dict()\n",
    "\n",
    "for x in a:\n",
    "    if x not in a_dict:\n",
    "        a_dict[x] = 1\n",
    "    else:\n",
    "        a_dict[x] += 1\n",
    "\n",
    "print(a_dict)"
   ]
  }
 ],
 "metadata": {
  "kernelspec": {
   "display_name": "Python 3",
   "language": "python",
   "name": "python3"
  },
  "language_info": {
   "codemirror_mode": {
    "name": "ipython",
    "version": 3
   },
   "file_extension": ".py",
   "mimetype": "text/x-python",
   "name": "python",
   "nbconvert_exporter": "python",
   "pygments_lexer": "ipython3",
   "version": "3.8.3"
  }
 },
 "nbformat": 4,
 "nbformat_minor": 4
}
