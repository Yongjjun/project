{
 "cells": [
  {
   "cell_type": "code",
   "execution_count": 1,
   "metadata": {},
   "outputs": [
    {
     "name": "stdout",
     "output_type": "stream",
     "text": [
      "날짜(연/월/일)입력: 2020/03/01\n",
      "입력한 날짜의 10년 후는 2030년 3월 1일\n"
     ]
    }
   ],
   "source": [
    "# 날짜(연/월/일) 입력:\n",
    "# 입력한 날짜의 10년 후는 2030년 8월 25일\n",
    "\n",
    "year, month, day = list(map(int, input(\"날짜(연/월/일)입력: \").split('/')))\n",
    "year += 10\n",
    "print('입력한 날짜의 10년 후는 %d년 %d월 %d일' %(year, month, day))"
   ]
  }
 ],
 "metadata": {
  "kernelspec": {
   "display_name": "Python 3",
   "language": "python",
   "name": "python3"
  },
  "language_info": {
   "codemirror_mode": {
    "name": "ipython",
    "version": 3
   },
   "file_extension": ".py",
   "mimetype": "text/x-python",
   "name": "python",
   "nbconvert_exporter": "python",
   "pygments_lexer": "ipython3",
   "version": "3.8.3"
  }
 },
 "nbformat": 4,
 "nbformat_minor": 4
}
